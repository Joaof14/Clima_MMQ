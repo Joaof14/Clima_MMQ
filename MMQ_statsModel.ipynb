{
 "cells": [
  {
   "cell_type": "markdown",
   "id": "0ff15aa9-5475-4d96-8590-c8a86db9a82d",
   "metadata": {},
   "source": [
    "# MMQ para dados climáticos"
   ]
  },
  {
   "cell_type": "code",
   "execution_count": 6,
   "id": "00cf8c79-547b-4826-9b55-408f3fdf1cb3",
   "metadata": {},
   "outputs": [],
   "source": [
    "#imports\n",
    "import numpy as np\n",
    "import matplotlib.pyplot as plt\n",
    "import pandas as pd\n",
    "import statsmodels.api as sm\n",
    "import scipy.stats as sp"
   ]
  },
  {
   "cell_type": "code",
   "execution_count": 2,
   "id": "ae91241c-351b-4984-9e2d-d69a0c26e2ae",
   "metadata": {},
   "outputs": [],
   "source": [
    "#importar dados\n",
    "df = pd.read_excel('Data/final_data.xlsx')"
   ]
  },
  {
   "cell_type": "code",
   "execution_count": null,
   "id": "16150b83-8399-4e7e-aa06-5b9ae26bbbb1",
   "metadata": {},
   "outputs": [],
   "source": []
  },
  {
   "cell_type": "markdown",
   "id": "280c636e-9073-46fb-97f1-b0a0788f0f91",
   "metadata": {},
   "source": [
    "## CO2xTempo"
   ]
  },
  {
   "cell_type": "code",
   "execution_count": 3,
   "id": "3eaa9676-6d29-4412-9898-ecb06af01a93",
   "metadata": {},
   "outputs": [],
   "source": [
    "#definir variáveis x e y\n",
    "y = np.array(df['Co2 ppm'])\n",
    "x = np.array(df['decimal date'])"
   ]
  },
  {
   "cell_type": "code",
   "execution_count": 8,
   "id": "ab749d69-439c-4e0e-918a-943b2a7ff45d",
   "metadata": {},
   "outputs": [
    {
     "data": {
      "text/plain": [
       "ShapiroResult(statistic=0.9412708282470703, pvalue=5.25531136560988e-17)"
      ]
     },
     "execution_count": 8,
     "metadata": {},
     "output_type": "execute_result"
    }
   ],
   "source": [
    "sp.shapiro(y)"
   ]
  },
  {
   "cell_type": "markdown",
   "id": "481c3338-a0e3-4a24-b5e5-fde3d023bbe2",
   "metadata": {},
   "source": [
    "### Linear"
   ]
  },
  {
   "cell_type": "code",
   "execution_count": null,
   "id": "2b838c79-a90a-406c-b3db-6f54de13bbe2",
   "metadata": {},
   "outputs": [],
   "source": [
    "#Preparar model e treiná-lo, com teste t de student para significância\n",
    "\n",
    "x_ = x\n",
    "y_ = y\n",
    "x_ = sm.add_constant(x_)\n",
    "model = sm.OLS(y_,x_)\n",
    "res = model.fit()\n",
    "res.summary()"
   ]
  },
  {
   "cell_type": "markdown",
   "id": "492edefd-a826-40b2-882a-b95b5803e056",
   "metadata": {},
   "source": [
    "### Logarítmico"
   ]
  },
  {
   "cell_type": "code",
   "execution_count": null,
   "id": "37656e2a-74b8-4da1-941e-bf279f9f7e2a",
   "metadata": {},
   "outputs": [],
   "source": [
    "#Preparar model e treiná-lo, com teste t de student para significância\n",
    "x_ = np.log(x)\n",
    "y_ = y\n",
    "\n",
    "x_ = sm.add_constant(x_)\n",
    "model = sm.OLS(y_,x_)\n",
    "res = model.fit()\n",
    "res.summary()\n"
   ]
  },
  {
   "cell_type": "markdown",
   "id": "f0c59ed2-14cf-449f-9ab1-5677002d538a",
   "metadata": {},
   "source": [
    "### Exponencial"
   ]
  },
  {
   "cell_type": "code",
   "execution_count": null,
   "id": "c7cfc823-d973-4e04-b372-918634817d74",
   "metadata": {},
   "outputs": [],
   "source": [
    "#Preparar model e treiná-lo, com teste t de student para significância\n",
    "x_ = x\n",
    "y_ = np.log(y)\n",
    "\n",
    "x_ = sm.add_constant(x_)\n",
    "model = sm.OLS(y_,x_)\n",
    "res = model.fit()\n",
    "resSum = res.summary()"
   ]
  },
  {
   "cell_type": "markdown",
   "id": "ede7d644-a569-489f-85dd-b791c4e1d174",
   "metadata": {},
   "source": [
    "### Potencial"
   ]
  },
  {
   "cell_type": "code",
   "execution_count": null,
   "id": "6fda9dc6-001d-4f38-9cf0-a33413fee5b7",
   "metadata": {},
   "outputs": [],
   "source": [
    "#Preparar model e treiná-lo, com teste t de student para significância\n",
    "x_ = np.log(x)\n",
    "y_ = np.log(y)\n",
    "\n",
    "x_ = sm.add_constant(x_)\n",
    "model = sm.OLS(y_,x_)\n",
    "res = model.fit()\n",
    "res.summary()\n"
   ]
  },
  {
   "cell_type": "markdown",
   "id": "6f308a5a-c036-4060-9fad-3e7fb24232f4",
   "metadata": {},
   "source": [
    "### Polinomial"
   ]
  },
  {
   "cell_type": "code",
   "execution_count": null,
   "id": "ca306e61-c370-4a8b-a7cc-127dffbf9782",
   "metadata": {},
   "outputs": [],
   "source": [
    "#Preparar model e treiná-lo, com teste t de student para significância\n",
    "x_ = x\n",
    "y_ = y\n",
    "\n",
    "x_p = np.column_stack((x_, x_**2))\n",
    "\n",
    "\n",
    "x_p = sm.add_constant(x_p)\n",
    "model = sm.OLS(y_,x_p)\n",
    "res = model.fit()\n",
    "res.summary()"
   ]
  },
  {
   "cell_type": "markdown",
   "id": "d5bcaa0e-1117-485c-a9e5-07da412df5c4",
   "metadata": {},
   "source": [
    "# Anomomalias de Temperatura x Tempo"
   ]
  },
  {
   "cell_type": "code",
   "execution_count": null,
   "id": "fc9e886e-3edc-473c-abd4-2b29b330c4a6",
   "metadata": {},
   "outputs": [],
   "source": [
    "#definir variáveis x e y\n",
    "y = np.array(df['Co2 ppm'])\n",
    "x = np.array(df['decimal date'])"
   ]
  },
  {
   "cell_type": "markdown",
   "id": "06207bc2-30ab-48ce-8ad0-e70348c56b91",
   "metadata": {},
   "source": [
    "# Anomomalias de Temperatura x Co2"
   ]
  },
  {
   "cell_type": "code",
   "execution_count": null,
   "id": "9641180a-1af7-41cb-a906-854f02e6bbd3",
   "metadata": {},
   "outputs": [],
   "source": []
  }
 ],
 "metadata": {
  "kernelspec": {
   "display_name": "Python 3 (ipykernel)",
   "language": "python",
   "name": "python3"
  },
  "language_info": {
   "codemirror_mode": {
    "name": "ipython",
    "version": 3
   },
   "file_extension": ".py",
   "mimetype": "text/x-python",
   "name": "python",
   "nbconvert_exporter": "python",
   "pygments_lexer": "ipython3",
   "version": "3.11.7"
  }
 },
 "nbformat": 4,
 "nbformat_minor": 5
}
