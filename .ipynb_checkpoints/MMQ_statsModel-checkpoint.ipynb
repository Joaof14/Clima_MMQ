{
 "cells": [
  {
   "cell_type": "markdown",
   "id": "0ff15aa9-5475-4d96-8590-c8a86db9a82d",
   "metadata": {},
   "source": [
    "# MMQ para dados climáticos"
   ]
  },
  {
   "cell_type": "code",
   "execution_count": 217,
   "id": "00cf8c79-547b-4826-9b55-408f3fdf1cb3",
   "metadata": {},
   "outputs": [],
   "source": [
    "#imports\n",
    "import numpy as np\n",
    "import matplotlib.pyplot as plt\n",
    "import pandas as pd\n",
    "import statsmodels.api as sm\n",
    "import scipy.stats as sp"
   ]
  },
  {
   "cell_type": "code",
   "execution_count": 218,
   "id": "2cfe3745-5e39-4ab2-befd-bdb577eb8add",
   "metadata": {},
   "outputs": [],
   "source": [
    "#importar dados\n",
    "df = pd.read_excel('Data/final_data.xlsx')"
   ]
  },
  {
   "cell_type": "code",
   "execution_count": 219,
   "id": "4d9182fb-c59a-49ed-a8d7-98bdf5ae4cba",
   "metadata": {},
   "outputs": [],
   "source": [
    "def treinar_modelo(x_, y_):\n",
    "    x_ = sm.add_constant(x_)\n",
    "    model = sm.OLS(y_,x_)\n",
    "    res = model.fit()\n",
    "    return res   "
   ]
  },
  {
   "cell_type": "code",
   "execution_count": 220,
   "id": "d44f6302-5475-478f-802f-4b1bc2e8597f",
   "metadata": {},
   "outputs": [],
   "source": [
    "def plotgrafico(xlabel, ylabel, label, linha):\n",
    "    graf, eix = plt.subplots()\n",
    "    eix.scatter(x,y, color = 'black')\n",
    "    eix.plot(x, linha , label = label, color = 'red')\n",
    "    eix.set_ylabel(ylabel)\n",
    "    eix.set_xlabel(xlabel)\n",
    "    eix.set_title('Grafico')\n",
    "    eix.legend()\n",
    "    graf.show()"
   ]
  },
  {
   "cell_type": "code",
   "execution_count": 221,
   "id": "5e9a6cec-48ef-43d5-b5c2-14811a1c6fb0",
   "metadata": {},
   "outputs": [],
   "source": [
    "#Previsão\n",
    "array_prev = [2034.0410, 2034.1257, 2034.2049, 2034.2896, 2034.3716, 2034.4563, 2034.5383, 2034.6230, 2034.7077, 2034.7896, 2034.8743, 2034.9563]"
   ]
  },
  {
   "cell_type": "markdown",
   "id": "280c636e-9073-46fb-97f1-b0a0788f0f91",
   "metadata": {},
   "source": [
    "## CO2xTempo"
   ]
  },
  {
   "cell_type": "code",
   "execution_count": 222,
   "id": "3eaa9676-6d29-4412-9898-ecb06af01a93",
   "metadata": {},
   "outputs": [],
   "source": [
    "#definir variáveis x e y\n",
    "y = np.array(df['Co2 ppm'])\n",
    "x = np.array(df['decimal date'])\n",
    "\n"
   ]
  },
  {
   "cell_type": "code",
   "execution_count": 223,
   "id": "5cd7e0a4",
   "metadata": {},
   "outputs": [
    {
     "data": {
      "text/plain": [
       "ShapiroResult(statistic=0.9412708282470703, pvalue=5.25531136560988e-17)"
      ]
     },
     "execution_count": 223,
     "metadata": {},
     "output_type": "execute_result"
    }
   ],
   "source": [
    "#teste da distribuição normal\n",
    "sp.shapiro(y)"
   ]
  },
  {
   "cell_type": "markdown",
   "id": "481c3338-a0e3-4a24-b5e5-fde3d023bbe2",
   "metadata": {
    "jp-MarkdownHeadingCollapsed": true
   },
   "source": [
    "### Linear"
   ]
  },
  {
   "cell_type": "code",
   "execution_count": null,
   "id": "2b838c79-a90a-406c-b3db-6f54de13bbe2",
   "metadata": {},
   "outputs": [],
   "source": [
    "#Preparar model e treiná-lo, com teste t de student para significância\n",
    "x_ = x\n",
    "y_ = y \n",
    "res = treinar_modelo(x_,y_)\n",
    "print(res.summary())"
   ]
  },
  {
   "cell_type": "code",
   "execution_count": null,
   "id": "42d2a842-9bb1-43b6-93c6-dc3db93f3532",
   "metadata": {},
   "outputs": [],
   "source": [
    "#Equação e Gráfico\n",
    "equacaolabel = f'{round(res.params[1],4)}x + {round(res.params[0],4)}'\n",
    "plotgrafico('data', 'Co2 ppm', equacaolabel, res.fittedvalues )"
   ]
  },
  {
   "cell_type": "markdown",
   "id": "492edefd-a826-40b2-882a-b95b5803e056",
   "metadata": {
    "jp-MarkdownHeadingCollapsed": true
   },
   "source": [
    "### Logarítmico"
   ]
  },
  {
   "cell_type": "code",
   "execution_count": null,
   "id": "37656e2a-74b8-4da1-941e-bf279f9f7e2a",
   "metadata": {},
   "outputs": [],
   "source": [
    "#Preparar model e treiná-lo, com teste t de student para significância\n",
    "x_ = np.log(x)\n",
    "y_ = y\n",
    "res = treinar_modelo(x_,y_)\n",
    "print(res.summary())\n"
   ]
  },
  {
   "cell_type": "code",
   "execution_count": null,
   "id": "c14b7cac-f417-4976-b6ba-391e295b0d92",
   "metadata": {},
   "outputs": [],
   "source": [
    "#Equação e Gráfico\n",
    "equacaolabel = f'{round(res.params[1],4)}ln(x) + {round(res.params[0],4)}'\n",
    "plotgrafico('data', 'Co2 ppm', equacaolabel, res.fittedvalues )"
   ]
  },
  {
   "cell_type": "markdown",
   "id": "f0c59ed2-14cf-449f-9ab1-5677002d538a",
   "metadata": {},
   "source": [
    "### Exponencial"
   ]
  },
  {
   "cell_type": "code",
   "execution_count": null,
   "id": "c7cfc823-d973-4e04-b372-918634817d74",
   "metadata": {},
   "outputs": [],
   "source": [
    "#Preparar model e treiná-lo, com teste t de student para significância\n",
    "x_ = x\n",
    "y_ = np.log(y)\n",
    "res = treinar_modelo(x_,y_)\n",
    "print(res.summary())"
   ]
  },
  {
   "cell_type": "code",
   "execution_count": null,
   "id": "749d277b-413d-405d-aa5c-4cbb012d3d13",
   "metadata": {},
   "outputs": [],
   "source": [
    "res.params"
   ]
  },
  {
   "cell_type": "markdown",
   "id": "ede7d644-a569-489f-85dd-b791c4e1d174",
   "metadata": {},
   "source": [
    "### Potencial"
   ]
  },
  {
   "cell_type": "code",
   "execution_count": null,
   "id": "6fda9dc6-001d-4f38-9cf0-a33413fee5b7",
   "metadata": {},
   "outputs": [],
   "source": [
    "#Preparar model e treiná-lo, com teste t de student para significância\n",
    "x_ = np.log(x)\n",
    "y_ = np.log(y)\n",
    "res = treinar_modelo(x_,y_)\n",
    "print(res.summary())\n"
   ]
  },
  {
   "cell_type": "markdown",
   "id": "6f308a5a-c036-4060-9fad-3e7fb24232f4",
   "metadata": {
    "jp-MarkdownHeadingCollapsed": true
   },
   "source": [
    "### Polinomial"
   ]
  },
  {
   "cell_type": "code",
   "execution_count": null,
   "id": "ca306e61-c370-4a8b-a7cc-127dffbf9782",
   "metadata": {},
   "outputs": [],
   "source": [
    "#Preparar model e treiná-lo, com teste t de student para significância\n",
    "y_ = y\n",
    "x_ = np.column_stack((x, x**2))\n",
    "res = treinar_modelo(x_,y_)\n",
    "print(res.summary())"
   ]
  },
  {
   "cell_type": "markdown",
   "id": "d5bcaa0e-1117-485c-a9e5-07da412df5c4",
   "metadata": {
    "jp-MarkdownHeadingCollapsed": true
   },
   "source": [
    "## Anomomalias de Temperatura x Tempo"
   ]
  },
  {
   "cell_type": "code",
   "execution_count": null,
   "id": "fc9e886e-3edc-473c-abd4-2b29b330c4a6",
   "metadata": {},
   "outputs": [],
   "source": [
    "#definir variáveis x e y\n",
    "y = df['temperature anomalies'].values\n",
    "x = df['decimal date'].values"
   ]
  },
  {
   "cell_type": "code",
   "execution_count": null,
   "id": "48adcb94-9ece-4617-a70e-2745edd0c8aa",
   "metadata": {},
   "outputs": [],
   "source": [
    "#teste da distribuição normal\n",
    "sp.shapiro(y)"
   ]
  },
  {
   "cell_type": "markdown",
   "id": "658e6ef1-4141-428c-9763-f7eaa49b82e1",
   "metadata": {},
   "source": [
    "### Linear"
   ]
  },
  {
   "cell_type": "code",
   "execution_count": null,
   "id": "b78b4f0e-c718-4d6d-975c-5c4063148507",
   "metadata": {},
   "outputs": [],
   "source": [
    "x_ = x\n",
    "y_ = y\n",
    "res = treinar_modelo(x_, y_)\n",
    "print(res.summary())"
   ]
  },
  {
   "cell_type": "code",
   "execution_count": null,
   "id": "945f3e10-8ea5-48f9-b627-487c7a8dc055",
   "metadata": {},
   "outputs": [],
   "source": [
    "#Equação e Gráfico\n",
    "equacaolabel = f'{round(res.params[1],4)}x + {round(res.params[0],4)}'\n",
    "plotgrafico('data', 'Co2 ppm', equacaolabel, res.fittedvalues )"
   ]
  },
  {
   "cell_type": "markdown",
   "id": "708fccb1-961c-4d64-868f-527726714921",
   "metadata": {
    "jp-MarkdownHeadingCollapsed": true
   },
   "source": [
    "### Logarítmico"
   ]
  },
  {
   "cell_type": "code",
   "execution_count": null,
   "id": "1b16d97a-622f-42e8-ac61-ca6f00a3a54f",
   "metadata": {},
   "outputs": [],
   "source": [
    "x_ = np.log(x)\n",
    "y_ = y\n",
    "res = treinar_modelo(x_, y_)\n",
    "print(res.summary())"
   ]
  },
  {
   "cell_type": "code",
   "execution_count": null,
   "id": "4a55f37e-26c1-4886-a267-3da2e7a1e0a2",
   "metadata": {},
   "outputs": [],
   "source": [
    "#Equação e Gráfico\n",
    "equacaolabel = f'{round(res.params[1],4)}ln(x) + {round(res.params[0],4)}'\n",
    "plotgrafico('data', 'Co2 ppm', equacaolabel, res.fittedvalues )"
   ]
  },
  {
   "cell_type": "markdown",
   "id": "ff791881-4d63-4ff3-af97-d7db41b760d7",
   "metadata": {
    "jp-MarkdownHeadingCollapsed": true
   },
   "source": [
    "### Exponencial"
   ]
  },
  {
   "cell_type": "code",
   "execution_count": null,
   "id": "c980805d-45eb-47c7-9d6f-2edbd516c5dd",
   "metadata": {},
   "outputs": [],
   "source": [
    "#Normalização\n",
    "yNorm = np.abs(np.min(y)) + 1\n",
    "y =  y + yNorm\n",
    "\n",
    "y_ = np.log(y)\n",
    "x_ = x\n",
    "\n",
    "res = treinar_modelo(x_, y_)\n",
    "print(res.summary())"
   ]
  },
  {
   "cell_type": "markdown",
   "id": "4e10937e-4eeb-4b2c-a4f2-b738ead54e6e",
   "metadata": {
    "jp-MarkdownHeadingCollapsed": true
   },
   "source": [
    "### Potencial"
   ]
  },
  {
   "cell_type": "code",
   "execution_count": null,
   "id": "78b0b7f7-301f-4750-8664-6e4ecd364ebf",
   "metadata": {},
   "outputs": [],
   "source": [
    "#Normalizar\n",
    "yNorm = np.abs(np.min(y)) + 1\n",
    "y =  y + yNorm\n",
    "\n",
    "x_ = np.log(x)\n",
    "y_ = np.log(y)\n",
    "\n",
    "res = treinar_modelo(x_, y_)\n",
    "print(res.summary())"
   ]
  },
  {
   "cell_type": "markdown",
   "id": "8ed73df3-f7a3-42c2-8a10-33900d6ccef2",
   "metadata": {
    "jp-MarkdownHeadingCollapsed": true
   },
   "source": [
    "### Polinomial"
   ]
  },
  {
   "cell_type": "code",
   "execution_count": null,
   "id": "ec0d7dd6-8aa6-4218-bb15-1b6c8b8161d0",
   "metadata": {},
   "outputs": [],
   "source": [
    "y_ = y\n",
    "x_ = np.column_stack((x, x**2))\n",
    "res = treinar_modelo(x_,y_)\n",
    "print(res.summary())"
   ]
  },
  {
   "cell_type": "markdown",
   "id": "06207bc2-30ab-48ce-8ad0-e70348c56b91",
   "metadata": {},
   "source": [
    "## Anomomalias de Temperatura x Co2"
   ]
  },
  {
   "cell_type": "code",
   "execution_count": null,
   "id": "f55957b0-c821-4c34-bbbf-69102c385b04",
   "metadata": {},
   "outputs": [],
   "source": [
    "y = df['temperature anomalies']\n",
    "x = df['Co2 ppm']"
   ]
  },
  {
   "cell_type": "markdown",
   "id": "df204c6b-d4d6-4f14-ae95-4a0304268d07",
   "metadata": {},
   "source": [
    "### Linear"
   ]
  },
  {
   "cell_type": "code",
   "execution_count": null,
   "id": "3268b578-3398-44cb-8e6d-632d59e2c1d9",
   "metadata": {},
   "outputs": [],
   "source": [
    "x_ = x\n",
    "y_ = y\n",
    "res = treinar_modelo(x_, y_)\n",
    "print(res.summary())"
   ]
  },
  {
   "cell_type": "code",
   "execution_count": null,
   "id": "07754de7-f1f3-4e0b-bb85-78f3c6aa47d4",
   "metadata": {},
   "outputs": [],
   "source": [
    "#Equação e Gráfico\n",
    "equacaolabel = f'{round(res.params[1],4)}x + ({round(res.params[0],4)})'\n",
    "plotgrafico('data', 'Co2 ppm', equacaolabel, res.fittedvalues )"
   ]
  },
  {
   "cell_type": "markdown",
   "id": "4aef1682-6043-4e4c-85e9-2add9acabe28",
   "metadata": {},
   "source": [
    "### Logarítmico"
   ]
  },
  {
   "cell_type": "code",
   "execution_count": null,
   "id": "341f9628-549e-42a2-adad-96934107e8ea",
   "metadata": {},
   "outputs": [],
   "source": [
    "x_ = np.log(x)\n",
    "y_ = y\n",
    "res = treinar_modelo(x_, y_)\n",
    "print(res.summary())"
   ]
  },
  {
   "cell_type": "code",
   "execution_count": null,
   "id": "06c7b6d5-49eb-4a9b-8cc4-f5c063795e84",
   "metadata": {},
   "outputs": [],
   "source": [
    "#Equação e Gráfico\n",
    "equacaolabel = f'{round(res.params[1],4)}ln(x) + ({round(res.params[0],4)})'\n",
    "plotgrafico('data', 'Co2 ppm', equacaolabel, res.fittedvalues )"
   ]
  },
  {
   "cell_type": "markdown",
   "id": "e559f575-d209-4ce7-8819-668f570cb193",
   "metadata": {},
   "source": [
    "### Exponencial"
   ]
  },
  {
   "cell_type": "code",
   "execution_count": null,
   "id": "61216f44-6cea-4d5a-b454-63fc81b53cf5",
   "metadata": {},
   "outputs": [],
   "source": [
    "#Normalização\n",
    "yNorm = np.abs(np.min(y)) + 1\n",
    "y =  y + yNorm\n",
    "\n",
    "y_ = np.log(y)\n",
    "x_ = x\n",
    "\n",
    "res = treinar_modelo(x_, y_)\n",
    "print(res.summary())"
   ]
  },
  {
   "cell_type": "code",
   "execution_count": null,
   "id": "aac0196c-f877-4178-ac8e-cb5ad5258533",
   "metadata": {},
   "outputs": [],
   "source": [
    "#Equação e Gráfico\n",
    "equacaolabel = f'{round(res.params[1],4)}ln(x) + ({round( np.exp(res.params[0]) ,4)})'\n",
    "plotgrafico('data', 'Co2 ppm', equacaolabel, res.fittedvalues )"
   ]
  },
  {
   "cell_type": "markdown",
   "id": "47ff131f-4f65-4948-bb55-d311d94e74a0",
   "metadata": {},
   "source": [
    "### Potencial"
   ]
  },
  {
   "cell_type": "code",
   "execution_count": null,
   "id": "18e98c3d-a16b-49e9-bba5-0823d579610f",
   "metadata": {},
   "outputs": [],
   "source": [
    "#Normalizar\n",
    "yNorm = np.abs(np.min(y)) + 1\n",
    "y =  y + yNorm\n",
    "\n",
    "x_ = np.log(x)\n",
    "y_ = np.log(y)\n",
    "\n",
    "res = treinar_modelo(x_, y_)\n",
    "print(res.summary())"
   ]
  },
  {
   "cell_type": "markdown",
   "id": "727a6034-c319-4308-b870-a7aaf6c6b2be",
   "metadata": {},
   "source": [
    "### Polinomial"
   ]
  },
  {
   "cell_type": "code",
   "execution_count": null,
   "id": "60f5060e-dc81-49f6-83b5-e9c6664df949",
   "metadata": {},
   "outputs": [],
   "source": [
    "y_ = y\n",
    "x_ = np.column_stack((x, x**2))\n",
    "res = treinar_modelo(x_,y_)\n",
    "print(res.summary())"
   ]
  },
  {
   "cell_type": "code",
   "execution_count": null,
   "id": "86c2beac-86bf-4bfb-81de-f6a807b97d1e",
   "metadata": {},
   "outputs": [],
   "source": []
  }
 ],
 "metadata": {
  "kernelspec": {
   "display_name": "Python 3 (ipykernel)",
   "language": "python",
   "name": "python3"
  },
  "language_info": {
   "codemirror_mode": {
    "name": "ipython",
    "version": 3
   },
   "file_extension": ".py",
   "mimetype": "text/x-python",
   "name": "python",
   "nbconvert_exporter": "python",
   "pygments_lexer": "ipython3",
   "version": "3.11.7"
  }
 },
 "nbformat": 4,
 "nbformat_minor": 5
}
