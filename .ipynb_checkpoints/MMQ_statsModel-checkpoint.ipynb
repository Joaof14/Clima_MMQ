{
 "cells": [
  {
   "cell_type": "markdown",
   "id": "0ff15aa9-5475-4d96-8590-c8a86db9a82d",
   "metadata": {},
   "source": [
    "# MMQ para dados climáticos"
   ]
  },
  {
   "cell_type": "code",
   "execution_count": 6,
   "id": "00cf8c79-547b-4826-9b55-408f3fdf1cb3",
   "metadata": {},
   "outputs": [],
   "source": [
    "#imports das bibliotecas necessaria\n",
    "import numpy as np\n",
    "import matplotlib.pyplot as plt\n",
    "import pandas as pd\n",
    "import statsmodels.api as sm\n",
    "import scipy.stats as sp"
   ]
  },
  {
   "cell_type": "markdown",
   "id": "cb1bf4b1-de48-4d60-b074-07b9b277f650",
   "metadata": {
    "jp-MarkdownHeadingCollapsed": true
   },
   "source": [
    "### Dados\n",
    "\n",
    "Os dados obtidos são de periodicidade mensal, começando a partir de janeiro 1980 e encerrando em dezembro de 2023."
   ]
  },
  {
   "cell_type": "code",
   "execution_count": 7,
   "id": "2cfe3745-5e39-4ab2-befd-bdb577eb8add",
   "metadata": {},
   "outputs": [
    {
     "data": {
      "text/html": [
       "<div>\n",
       "<style scoped>\n",
       "    .dataframe tbody tr th:only-of-type {\n",
       "        vertical-align: middle;\n",
       "    }\n",
       "\n",
       "    .dataframe tbody tr th {\n",
       "        vertical-align: top;\n",
       "    }\n",
       "\n",
       "    .dataframe thead th {\n",
       "        text-align: right;\n",
       "    }\n",
       "</style>\n",
       "<table border=\"1\" class=\"dataframe\">\n",
       "  <thead>\n",
       "    <tr style=\"text-align: right;\">\n",
       "      <th></th>\n",
       "      <th>Unnamed: 0</th>\n",
       "      <th>year</th>\n",
       "      <th>month</th>\n",
       "      <th>decimal date</th>\n",
       "      <th>temperature anomalies</th>\n",
       "      <th>Co2 ppm</th>\n",
       "    </tr>\n",
       "  </thead>\n",
       "  <tbody>\n",
       "    <tr>\n",
       "      <th>0</th>\n",
       "      <td>0</td>\n",
       "      <td>1980</td>\n",
       "      <td>1</td>\n",
       "      <td>1980.042</td>\n",
       "      <td>0.37</td>\n",
       "      <td>338.55</td>\n",
       "    </tr>\n",
       "    <tr>\n",
       "      <th>1</th>\n",
       "      <td>1</td>\n",
       "      <td>1980</td>\n",
       "      <td>2</td>\n",
       "      <td>1980.125</td>\n",
       "      <td>0.46</td>\n",
       "      <td>339.26</td>\n",
       "    </tr>\n",
       "    <tr>\n",
       "      <th>2</th>\n",
       "      <td>2</td>\n",
       "      <td>1980</td>\n",
       "      <td>3</td>\n",
       "      <td>1980.208</td>\n",
       "      <td>0.35</td>\n",
       "      <td>339.59</td>\n",
       "    </tr>\n",
       "    <tr>\n",
       "      <th>3</th>\n",
       "      <td>3</td>\n",
       "      <td>1980</td>\n",
       "      <td>4</td>\n",
       "      <td>1980.292</td>\n",
       "      <td>0.34</td>\n",
       "      <td>339.99</td>\n",
       "    </tr>\n",
       "    <tr>\n",
       "      <th>4</th>\n",
       "      <td>4</td>\n",
       "      <td>1980</td>\n",
       "      <td>5</td>\n",
       "      <td>1980.375</td>\n",
       "      <td>0.39</td>\n",
       "      <td>340.44</td>\n",
       "    </tr>\n",
       "    <tr>\n",
       "      <th>...</th>\n",
       "      <td>...</td>\n",
       "      <td>...</td>\n",
       "      <td>...</td>\n",
       "      <td>...</td>\n",
       "      <td>...</td>\n",
       "      <td>...</td>\n",
       "    </tr>\n",
       "    <tr>\n",
       "      <th>523</th>\n",
       "      <td>523</td>\n",
       "      <td>2023</td>\n",
       "      <td>8</td>\n",
       "      <td>2023.625</td>\n",
       "      <td>1.26</td>\n",
       "      <td>416.65</td>\n",
       "    </tr>\n",
       "    <tr>\n",
       "      <th>524</th>\n",
       "      <td>524</td>\n",
       "      <td>2023</td>\n",
       "      <td>9</td>\n",
       "      <td>2023.708</td>\n",
       "      <td>1.43</td>\n",
       "      <td>417.06</td>\n",
       "    </tr>\n",
       "    <tr>\n",
       "      <th>525</th>\n",
       "      <td>525</td>\n",
       "      <td>2023</td>\n",
       "      <td>10</td>\n",
       "      <td>2023.792</td>\n",
       "      <td>1.37</td>\n",
       "      <td>418.73</td>\n",
       "    </tr>\n",
       "    <tr>\n",
       "      <th>526</th>\n",
       "      <td>526</td>\n",
       "      <td>2023</td>\n",
       "      <td>11</td>\n",
       "      <td>2023.875</td>\n",
       "      <td>1.42</td>\n",
       "      <td>420.34</td>\n",
       "    </tr>\n",
       "    <tr>\n",
       "      <th>527</th>\n",
       "      <td>527</td>\n",
       "      <td>2023</td>\n",
       "      <td>12</td>\n",
       "      <td>2023.958</td>\n",
       "      <td>1.38</td>\n",
       "      <td>421.52</td>\n",
       "    </tr>\n",
       "  </tbody>\n",
       "</table>\n",
       "<p>528 rows × 6 columns</p>\n",
       "</div>"
      ],
      "text/plain": [
       "     Unnamed: 0  year  month  decimal date  temperature anomalies  Co2 ppm\n",
       "0             0  1980      1      1980.042                   0.37   338.55\n",
       "1             1  1980      2      1980.125                   0.46   339.26\n",
       "2             2  1980      3      1980.208                   0.35   339.59\n",
       "3             3  1980      4      1980.292                   0.34   339.99\n",
       "4             4  1980      5      1980.375                   0.39   340.44\n",
       "..          ...   ...    ...           ...                    ...      ...\n",
       "523         523  2023      8      2023.625                   1.26   416.65\n",
       "524         524  2023      9      2023.708                   1.43   417.06\n",
       "525         525  2023     10      2023.792                   1.37   418.73\n",
       "526         526  2023     11      2023.875                   1.42   420.34\n",
       "527         527  2023     12      2023.958                   1.38   421.52\n",
       "\n",
       "[528 rows x 6 columns]"
      ]
     },
     "execution_count": 7,
     "metadata": {},
     "output_type": "execute_result"
    }
   ],
   "source": [
    "#importar dados para regressão\n",
    "df = pd.read_excel('Data/final_data.xlsx')\n",
    "df"
   ]
  },
  {
   "cell_type": "code",
   "execution_count": 8,
   "id": "5e9a6cec-48ef-43d5-b5c2-14811a1c6fb0",
   "metadata": {},
   "outputs": [],
   "source": [
    "#Dados para previsão\n",
    "array_prev = [2034.0410, 2034.1257, 2034.2049, 2034.2896, 2034.3716, 2034.4563, 2034.5383, 2034.6230, 2034.7077, 2034.7896, 2034.8743, 2034.9563]"
   ]
  },
  {
   "cell_type": "markdown",
   "id": "5dd77e2c-d1ad-4e92-8619-aeba472adbb2",
   "metadata": {},
   "source": [
    "### Funções Auxiliares"
   ]
  },
  {
   "cell_type": "code",
   "execution_count": 9,
   "id": "4d9182fb-c59a-49ed-a8d7-98bdf5ae4cba",
   "metadata": {},
   "outputs": [],
   "source": [
    "def treinar_modelo(x_, y_):\n",
    "    x_ = sm.add_constant(x_)\n",
    "    model = sm.OLS(y_,x_)\n",
    "    res = model.fit()\n",
    "    return res   "
   ]
  },
  {
   "cell_type": "code",
   "execution_count": 10,
   "id": "d44f6302-5475-478f-802f-4b1bc2e8597f",
   "metadata": {},
   "outputs": [
    {
     "ename": "SyntaxError",
     "evalue": "non-default argument follows default argument (520011771.py, line 1)",
     "output_type": "error",
     "traceback": [
      "\u001b[1;36m  Cell \u001b[1;32mIn[10], line 1\u001b[1;36m\u001b[0m\n\u001b[1;33m    def plotgrafico(xlabel = \"\", ylabel=\"\", label=\"\", titulo = 'Gráfico', funcao = True, linha):\u001b[0m\n\u001b[1;37m                                                                                         ^\u001b[0m\n\u001b[1;31mSyntaxError\u001b[0m\u001b[1;31m:\u001b[0m non-default argument follows default argument\n"
     ]
    }
   ],
   "source": [
    "def plotgrafico(xlabel = \"\", ylabel=\"\", label=\"\", titulo = 'Gráfico', funcao = True, linha = 0):\n",
    "    graf, eix = plt.subplots(figsize(20,8))\n",
    "    eix.scatter(x,y, color = 'black')\n",
    "    if funcao = True:\n",
    "        eix.plot(x, linha , label = label, color = 'red')\n",
    "    eix.set_ylabel(ylabel)\n",
    "    eix.set_xlabel(xlabel)\n",
    "    eix.set_title(titulo)\n",
    "    eix.legend()\n",
    "    graf.show()"
   ]
  },
  {
   "cell_type": "markdown",
   "id": "280c636e-9073-46fb-97f1-b0a0788f0f91",
   "metadata": {},
   "source": [
    "## CO2xTempo\n",
    "\n",
    "Aqui, serão realizados estudos relacionados a regressão linear simples e ajustes não lineares de dados mensais de concentração atmosférica do CO2 em partes por milhão ao longo do tempo."
   ]
  },
  {
   "cell_type": "code",
   "execution_count": null,
   "id": "3eaa9676-6d29-4412-9898-ecb06af01a93",
   "metadata": {},
   "outputs": [],
   "source": [
    "#definir variáveis x e y\n",
    "y = np.array(df['Co2 ppm'])\n",
    "x = np.array(df['decimal date'])\n",
    "\n"
   ]
  },
  {
   "cell_type": "code",
   "execution_count": null,
   "id": "5cd7e0a4",
   "metadata": {},
   "outputs": [],
   "source": [
    "#teste da distribuição normal\n",
    "sp.shapiro(y)"
   ]
  },
  {
   "cell_type": "markdown",
   "id": "481c3338-a0e3-4a24-b5e5-fde3d023bbe2",
   "metadata": {},
   "source": [
    "### Linear 1"
   ]
  },
  {
   "cell_type": "code",
   "execution_count": null,
   "id": "2b838c79-a90a-406c-b3db-6f54de13bbe2",
   "metadata": {},
   "outputs": [],
   "source": [
    "#Preparar model e treiná-lo, com teste t de student para significância\n",
    "x_ = x\n",
    "y_ = y \n",
    "res = treinar_modelo(x_,y_)\n",
    "print(res.summary())"
   ]
  },
  {
   "cell_type": "code",
   "execution_count": null,
   "id": "42d2a842-9bb1-43b6-93c6-dc3db93f3532",
   "metadata": {},
   "outputs": [],
   "source": [
    "#Equação e Gráfico\n",
    "equacaolabel = f'{round(res.params[1],4)}x {round(res.params[0],4)}'\n",
    "plotgrafico('data', 'Co2 ppm', equacaolabel, res.fittedvalues )"
   ]
  },
  {
   "cell_type": "markdown",
   "id": "da210f60-f29f-4a12-9d5a-b1f90fd4c5de",
   "metadata": {
    "jp-MarkdownHeadingCollapsed": true
   },
   "source": [
    "#### Comentários"
   ]
  },
  {
   "cell_type": "markdown",
   "id": "492edefd-a826-40b2-882a-b95b5803e056",
   "metadata": {},
   "source": [
    "### Logarítmico 1"
   ]
  },
  {
   "cell_type": "code",
   "execution_count": null,
   "id": "37656e2a-74b8-4da1-941e-bf279f9f7e2a",
   "metadata": {},
   "outputs": [],
   "source": [
    "#Preparar model e treiná-lo, com teste t de student para significância\n",
    "x_ = np.log(x)\n",
    "y_ = y\n",
    "res = treinar_modelo(x_,y_)\n",
    "print(res.summary())\n"
   ]
  },
  {
   "cell_type": "code",
   "execution_count": null,
   "id": "c14b7cac-f417-4976-b6ba-391e295b0d92",
   "metadata": {},
   "outputs": [],
   "source": [
    "#Equação e Gráfico\n",
    "equacaolabel = f'{round(res.params[1],4)}ln(x) {round(res.params[0],4)}'\n",
    "plotgrafico('data', 'Co2 ppm', equacaolabel, res.fittedvalues )"
   ]
  },
  {
   "cell_type": "markdown",
   "id": "586b4f65-c852-4090-9c4a-1f9d9262631a",
   "metadata": {
    "jp-MarkdownHeadingCollapsed": true
   },
   "source": [
    "#### Comentários"
   ]
  },
  {
   "cell_type": "markdown",
   "id": "f0c59ed2-14cf-449f-9ab1-5677002d538a",
   "metadata": {},
   "source": [
    "### Exponencial 1"
   ]
  },
  {
   "cell_type": "code",
   "execution_count": null,
   "id": "c7cfc823-d973-4e04-b372-918634817d74",
   "metadata": {},
   "outputs": [],
   "source": [
    "#Preparar model e treiná-lo, com teste t de student para significância\n",
    "x_ = x\n",
    "y_ = np.log(y)\n",
    "res = treinar_modelo(x_,y_)\n",
    "print(res.summary())"
   ]
  },
  {
   "cell_type": "code",
   "execution_count": null,
   "id": "749d277b-413d-405d-aa5c-4cbb012d3d13",
   "metadata": {},
   "outputs": [],
   "source": [
    "#Equação e Gráfico\n",
    "equacaolabel = f'{round(np.exp(res.params[0]),4)}e^({round( res.params[1] ,4)})'\n",
    "funApro = np.exp(res.params[0]) * np.exp(res.params[1] * x)\n",
    "plotgrafico('data', 'Co2 ppm', equacaolabel, funApro  )"
   ]
  },
  {
   "cell_type": "markdown",
   "id": "ab21870a-4434-4153-af88-934d52df353a",
   "metadata": {
    "jp-MarkdownHeadingCollapsed": true
   },
   "source": [
    "#### Comentários"
   ]
  },
  {
   "cell_type": "markdown",
   "id": "ede7d644-a569-489f-85dd-b791c4e1d174",
   "metadata": {},
   "source": [
    "### Potencial 1"
   ]
  },
  {
   "cell_type": "code",
   "execution_count": null,
   "id": "6fda9dc6-001d-4f38-9cf0-a33413fee5b7",
   "metadata": {},
   "outputs": [],
   "source": [
    "#Preparar model e treiná-lo, com teste t de student para significância\n",
    "x_ = np.log(x)\n",
    "y_ = np.log(y)\n",
    "res = treinar_modelo(x_,y_)\n",
    "print(res.summary())\n"
   ]
  },
  {
   "cell_type": "code",
   "execution_count": null,
   "id": "208cc6f9-14f3-4697-908d-20c2f2b7bb32",
   "metadata": {},
   "outputs": [],
   "source": [
    "#Equação e Gráfico\n",
    "equacaolabel = f'{np.exp(res.params[0]):.4g}x^({round(res.params[1],4):.4g})'\n",
    "funApro = np.exp(res.params[0]) * (x ** res.params[1])\n",
    "plotgrafico('data', 'Co2 ppm', equacaolabel, funApro  )"
   ]
  },
  {
   "cell_type": "markdown",
   "id": "5db8a250-2fdc-443d-9974-c74c84f34dae",
   "metadata": {
    "jp-MarkdownHeadingCollapsed": true
   },
   "source": [
    "#### Comentários"
   ]
  },
  {
   "cell_type": "markdown",
   "id": "6f308a5a-c036-4060-9fad-3e7fb24232f4",
   "metadata": {},
   "source": [
    "### Polinomial 1"
   ]
  },
  {
   "cell_type": "code",
   "execution_count": null,
   "id": "ca306e61-c370-4a8b-a7cc-127dffbf9782",
   "metadata": {},
   "outputs": [],
   "source": [
    "#Preparar model e treiná-lo, com teste t de student para significância\n",
    "y_ = y\n",
    "x_ = np.column_stack((x, x**2))\n",
    "res = treinar_modelo(x_,y_)\n",
    "print(res.summary())"
   ]
  },
  {
   "cell_type": "code",
   "execution_count": null,
   "id": "2c1d0510-bc48-4729-9752-03bd13bf1348",
   "metadata": {},
   "outputs": [],
   "source": [
    "#Equação e Gráfico\n",
    "equacaolabel = f'{round(res.params[2],4)}x² {round(res.params[1],4)}x + {round(res.params[0],4)}'\n",
    "plotgrafico('data', 'Co2 ppm', equacaolabel, res.fittedvalues )"
   ]
  },
  {
   "cell_type": "markdown",
   "id": "9b0fb582-0bc3-4726-a199-04c787e83aeb",
   "metadata": {
    "jp-MarkdownHeadingCollapsed": true
   },
   "source": [
    "#### Comentários"
   ]
  },
  {
   "attachments": {},
   "cell_type": "markdown",
   "id": "d5bcaa0e-1117-485c-a9e5-07da412df5c4",
   "metadata": {},
   "source": [
    "## Anomalias de Temperatura x Tempo\n",
    "\n",
    "Aqui serão realizados estudos de regressão linear simples e ajustes não lineares a partir de dados de uma série temporal de anomalias de temperatura em terra e oceanos, que calcula as anomalias com base nos anos anteriores."
   ]
  },
  {
   "cell_type": "code",
   "execution_count": null,
   "id": "fc9e886e-3edc-473c-abd4-2b29b330c4a6",
   "metadata": {},
   "outputs": [],
   "source": [
    "#definir variáveis x e y\n",
    "y = np.array(df['temperature anomalies'])\n",
    "x = np.array(df['decimal date'])\n",
    "y"
   ]
  },
  {
   "cell_type": "code",
   "execution_count": null,
   "id": "48adcb94-9ece-4617-a70e-2745edd0c8aa",
   "metadata": {},
   "outputs": [],
   "source": [
    "#teste da distribuição normal\n",
    "sp.shapiro(y)"
   ]
  },
  {
   "cell_type": "markdown",
   "id": "658e6ef1-4141-428c-9763-f7eaa49b82e1",
   "metadata": {},
   "source": [
    "### Linear 2"
   ]
  },
  {
   "cell_type": "code",
   "execution_count": null,
   "id": "b78b4f0e-c718-4d6d-975c-5c4063148507",
   "metadata": {},
   "outputs": [],
   "source": [
    "x_ = x\n",
    "y_ = y\n",
    "res = treinar_modelo(x_, y_)\n",
    "print(res.summary())"
   ]
  },
  {
   "cell_type": "code",
   "execution_count": null,
   "id": "945f3e10-8ea5-48f9-b627-487c7a8dc055",
   "metadata": {},
   "outputs": [],
   "source": [
    "#Equação e Gráfico\n",
    "equacaolabel = f'{round(res.params[1],4)}x {round(res.params[0],4)}'\n",
    "plotgrafico('data', 'Anomalia de Temperatura', equacaolabel, res.fittedvalues )"
   ]
  },
  {
   "cell_type": "markdown",
   "id": "f49d1b3d-db05-4e18-8c08-5d98d373f4d2",
   "metadata": {
    "jp-MarkdownHeadingCollapsed": true
   },
   "source": [
    "#### Comentários"
   ]
  },
  {
   "cell_type": "markdown",
   "id": "708fccb1-961c-4d64-868f-527726714921",
   "metadata": {},
   "source": [
    "### Logarítmico 2"
   ]
  },
  {
   "cell_type": "code",
   "execution_count": null,
   "id": "1b16d97a-622f-42e8-ac61-ca6f00a3a54f",
   "metadata": {},
   "outputs": [],
   "source": [
    "x_ = np.log(x)\n",
    "y_ = y\n",
    "res = treinar_modelo(x_, y_)\n",
    "print(res.summary())"
   ]
  },
  {
   "cell_type": "code",
   "execution_count": null,
   "id": "4a55f37e-26c1-4886-a267-3da2e7a1e0a2",
   "metadata": {},
   "outputs": [],
   "source": [
    "#Equação e Gráfico\n",
    "equacaolabel = f'{round(res.params[1],4)}ln(x) {round(res.params[0],4)}'\n",
    "plotgrafico('data', 'Anomalia de Temperatura', equacaolabel, res.fittedvalues )"
   ]
  },
  {
   "cell_type": "markdown",
   "id": "3622b6bb-4bb2-4e89-b279-63aa2c3bf3ae",
   "metadata": {
    "jp-MarkdownHeadingCollapsed": true
   },
   "source": [
    "#### Comentários"
   ]
  },
  {
   "cell_type": "markdown",
   "id": "ff791881-4d63-4ff3-af97-d7db41b760d7",
   "metadata": {},
   "source": [
    "### Exponencial 2"
   ]
  },
  {
   "cell_type": "code",
   "execution_count": null,
   "id": "c980805d-45eb-47c7-9d6f-2edbd516c5dd",
   "metadata": {},
   "outputs": [],
   "source": [
    "#Preparar model e treiná-lo, com teste t de student para significância\n",
    "x_ = x\n",
    "y_ = np.log(y)\n",
    "res = treinar_modelo(x_,y_)\n",
    "print(res.summary())"
   ]
  },
  {
   "cell_type": "code",
   "execution_count": null,
   "id": "f162e8f4-833c-493a-a16f-fcfe268c748d",
   "metadata": {},
   "outputs": [],
   "source": [
    "#Equação e Gráfico\n",
    "equacaolabel = f'{round(np.exp(res.params[0]),4)}e^({round( res.params[1] ,4)})'\n",
    "funApro = np.exp(res.params[0]) * np.exp(res.params[1] * x)\n",
    "plotgrafico('data', 'Anomalia de Temperatura', equacaolabel, funApro )"
   ]
  },
  {
   "cell_type": "markdown",
   "id": "bfea97a2-609f-4825-a105-68bdbf65c2d5",
   "metadata": {
    "jp-MarkdownHeadingCollapsed": true
   },
   "source": [
    "#### Comentários"
   ]
  },
  {
   "cell_type": "markdown",
   "id": "4e10937e-4eeb-4b2c-a4f2-b738ead54e6e",
   "metadata": {},
   "source": [
    "### Potencial 2"
   ]
  },
  {
   "cell_type": "code",
   "execution_count": null,
   "id": "78b0b7f7-301f-4750-8664-6e4ecd364ebf",
   "metadata": {},
   "outputs": [],
   "source": [
    "#Preparar model e treiná-lo, com teste t de student para significância\n",
    "x_ = np.log(x)\n",
    "y_ = np.log(y)\n",
    "res = treinar_modelo(x_,y_)\n",
    "print(res.summary())\n"
   ]
  },
  {
   "cell_type": "code",
   "execution_count": null,
   "id": "12041667-f1f5-4cc6-90e2-0ef157710dac",
   "metadata": {},
   "outputs": [],
   "source": [
    "#Equação e Gráfico\n",
    "equacaolabel = f'{np.exp(res.params[0]):.4g}x^({round(res.params[1],4):.4g})'\n",
    "funApro = np.exp(res.params[0]) * (x ** res.params[1])\n",
    "plotgrafico('data', 'Anomalia de Temperatura', equacaolabel, funApro )"
   ]
  },
  {
   "cell_type": "markdown",
   "id": "c6de501a-e794-422b-86d9-eba9a6f74cb5",
   "metadata": {
    "jp-MarkdownHeadingCollapsed": true
   },
   "source": [
    "#### Comentários"
   ]
  },
  {
   "cell_type": "markdown",
   "id": "8ed73df3-f7a3-42c2-8a10-33900d6ccef2",
   "metadata": {},
   "source": [
    "### Polinomial 2"
   ]
  },
  {
   "cell_type": "code",
   "execution_count": null,
   "id": "ec0d7dd6-8aa6-4218-bb15-1b6c8b8161d0",
   "metadata": {},
   "outputs": [],
   "source": [
    "x_ = x\n",
    "y_ = y\n",
    "\n",
    "x_p = np.column_stack((x_, x_**2))\n",
    "\n",
    "\n",
    "x_p = sm.add_constant(x_p)\n",
    "model = sm.OLS(y_,x_p)\n",
    "res = model.fit()\n",
    "print(res.summary())"
   ]
  },
  {
   "cell_type": "code",
   "execution_count": null,
   "id": "a47f374e-1a05-4844-b44b-82d821ea39a6",
   "metadata": {},
   "outputs": [],
   "source": [
    "#Equação e Gráfico\n",
    "equacaolabel = f'{res.params[2]:.4g}x² {round(res.params[1],4)}x + {round(res.params[0],4)}'\n",
    "plotgrafico('data', 'Anomalia de Temperatura', equacaolabel, res.fittedvalues )"
   ]
  },
  {
   "cell_type": "markdown",
   "id": "2788efe4-cac0-43a0-bebb-116882699cbd",
   "metadata": {
    "jp-MarkdownHeadingCollapsed": true
   },
   "source": [
    "#### Comentários\n"
   ]
  },
  {
   "cell_type": "markdown",
   "id": "06207bc2-30ab-48ce-8ad0-e70348c56b91",
   "metadata": {},
   "source": [
    "## Anomalias de Temperatura x Co2\n",
    "\n",
    "Aqui serão realizados estudos de regressão linear simples e ajustes não lineares a partir dos dados das anomalias de temperatura em terra e oceanos ao longo do tempo, mas em função das mudanças de concentração atmosférica do CO2 em partes por milhão ao longo do tempo"
   ]
  },
  {
   "cell_type": "code",
   "execution_count": null,
   "id": "f55957b0-c821-4c34-bbbf-69102c385b04",
   "metadata": {},
   "outputs": [],
   "source": [
    "y = df['temperature anomalies']\n",
    "x = df['Co2 ppm']"
   ]
  },
  {
   "cell_type": "markdown",
   "id": "df204c6b-d4d6-4f14-ae95-4a0304268d07",
   "metadata": {},
   "source": [
    "### Linear 3"
   ]
  },
  {
   "cell_type": "code",
   "execution_count": null,
   "id": "3268b578-3398-44cb-8e6d-632d59e2c1d9",
   "metadata": {},
   "outputs": [],
   "source": [
    "x_ = x\n",
    "y_ = y\n",
    "res = treinar_modelo(x_, y_)\n",
    "print(res.summary())"
   ]
  },
  {
   "cell_type": "code",
   "execution_count": null,
   "id": "07754de7-f1f3-4e0b-bb85-78f3c6aa47d4",
   "metadata": {},
   "outputs": [],
   "source": [
    "#Equação e Gráfico\n",
    "equacaolabel = f'{round(res.params[1],4)}x + ({round(res.params[0],4)})'\n",
    "plotgrafico('Co2 ppm', 'Anomalia de Temperatura', equacaolabel, res.fittedvalues )"
   ]
  },
  {
   "cell_type": "markdown",
   "id": "990b1173-7e0a-415e-8f5f-e06514448fc6",
   "metadata": {
    "jp-MarkdownHeadingCollapsed": true
   },
   "source": [
    "#### Comentários"
   ]
  },
  {
   "cell_type": "markdown",
   "id": "4aef1682-6043-4e4c-85e9-2add9acabe28",
   "metadata": {},
   "source": [
    "### Logarítmico 3"
   ]
  },
  {
   "cell_type": "code",
   "execution_count": null,
   "id": "341f9628-549e-42a2-adad-96934107e8ea",
   "metadata": {},
   "outputs": [],
   "source": [
    "x_ = np.log(x)\n",
    "y_ = y\n",
    "res = treinar_modelo(x_, y_)\n",
    "print(res.summary())"
   ]
  },
  {
   "cell_type": "code",
   "execution_count": null,
   "id": "06c7b6d5-49eb-4a9b-8cc4-f5c063795e84",
   "metadata": {},
   "outputs": [],
   "source": [
    "#Equação e Gráfico\n",
    "equacaolabel = f'{round(res.params[1],4)}ln(x) + ({round(res.params[0],4)})'\n",
    "plotgrafico('Co2 ppm', 'Anomalia de Temperatura', equacaolabel, res.fittedvalues )"
   ]
  },
  {
   "cell_type": "markdown",
   "id": "0b22fa41-fd63-42ba-b05d-296532adfdf7",
   "metadata": {
    "jp-MarkdownHeadingCollapsed": true
   },
   "source": [
    "#### Comentários"
   ]
  },
  {
   "cell_type": "markdown",
   "id": "e559f575-d209-4ce7-8819-668f570cb193",
   "metadata": {},
   "source": [
    "### Exponencial 3"
   ]
  },
  {
   "cell_type": "code",
   "execution_count": null,
   "id": "61216f44-6cea-4d5a-b454-63fc81b53cf5",
   "metadata": {},
   "outputs": [],
   "source": [
    "#Preparar model e treiná-lo, com teste t de student para significância\n",
    "x_ = x\n",
    "y_ = np.log(y)\n",
    "res = treinar_modelo(x_,y_)\n",
    "print(res.summary())"
   ]
  },
  {
   "cell_type": "code",
   "execution_count": null,
   "id": "82dd31aa-8dfa-4f82-b21c-f4273f5230f6",
   "metadata": {},
   "outputs": [],
   "source": [
    "#Equação e Gráfico\n",
    "equacaolabel = f'{round(np.exp(res.params[0]),4)}e^({round( res.params[1] ,4)})'\n",
    "funApro = np.exp(res.params[0]) * np.exp(res.params[1] * x)\n",
    "plotgrafico('CO2', 'Anomalia de Temperatura', equacaolabel, funApro )"
   ]
  },
  {
   "cell_type": "markdown",
   "id": "c41c6466-4909-4481-b96e-bb48485c9c90",
   "metadata": {
    "jp-MarkdownHeadingCollapsed": true
   },
   "source": [
    "#### Comentários"
   ]
  },
  {
   "cell_type": "markdown",
   "id": "47ff131f-4f65-4948-bb55-d311d94e74a0",
   "metadata": {},
   "source": [
    "### Potencial 3"
   ]
  },
  {
   "cell_type": "code",
   "execution_count": null,
   "id": "18e98c3d-a16b-49e9-bba5-0823d579610f",
   "metadata": {},
   "outputs": [],
   "source": [
    "#Preparar model e treiná-lo, com teste t de student para significância\n",
    "x_ = np.log(x)\n",
    "y_ = np.log(y)\n",
    "res = treinar_modelo(x_,y_)\n",
    "print(res.summary())\n"
   ]
  },
  {
   "cell_type": "code",
   "execution_count": null,
   "id": "3040d699-28f5-4ed5-be13-f1728c080617",
   "metadata": {},
   "outputs": [],
   "source": [
    "#Equação e Gráfico\n",
    "equacaolabel = f'{np.exp(res.params[0]):.4g}x^({round(res.params[1],4):.4g})'\n",
    "funApro = np.exp(res.params[0]) * (x ** res.params[1])\n",
    "plotgrafico('data', 'Anomalia de Temperatura', equacaolabel, funApro  )"
   ]
  },
  {
   "cell_type": "markdown",
   "id": "ff6c28e9-d151-4f7e-8186-85e81cf06726",
   "metadata": {
    "jp-MarkdownHeadingCollapsed": true
   },
   "source": [
    "#### Comentários"
   ]
  },
  {
   "cell_type": "markdown",
   "id": "727a6034-c319-4308-b870-a7aaf6c6b2be",
   "metadata": {},
   "source": [
    "### Polinomial 3"
   ]
  },
  {
   "cell_type": "code",
   "execution_count": null,
   "id": "60f5060e-dc81-49f6-83b5-e9c6664df949",
   "metadata": {},
   "outputs": [],
   "source": [
    "y_ = y\n",
    "x_ = np.column_stack((x, x**2))\n",
    "res = treinar_modelo(x_,y_)\n",
    "print(res.summary())"
   ]
  },
  {
   "cell_type": "code",
   "execution_count": null,
   "id": "1e68f2db-b74d-475c-9d9c-8ece2f29d4ba",
   "metadata": {},
   "outputs": [],
   "source": [
    "#Equação e Gráfico\n",
    "equacaolabel = f'{res.params[2]:.4g}x² + {round(res.params[1],4)}x {round(res.params[0],4)}'\n",
    "plotgrafico('Co2 ppm', 'Anomalia de Temperatura', equacaolabel, res.fittedvalues )"
   ]
  },
  {
   "cell_type": "markdown",
   "id": "7285a9c8-aab9-4a84-bf0a-0fe3391acbc4",
   "metadata": {
    "jp-MarkdownHeadingCollapsed": true
   },
   "source": [
    "#### Comentários"
   ]
  }
 ],
 "metadata": {
  "kernelspec": {
   "display_name": "Python 3 (ipykernel)",
   "language": "python",
   "name": "python3"
  },
  "language_info": {
   "codemirror_mode": {
    "name": "ipython",
    "version": 3
   },
   "file_extension": ".py",
   "mimetype": "text/x-python",
   "name": "python",
   "nbconvert_exporter": "python",
   "pygments_lexer": "ipython3",
   "version": "3.11.7"
  }
 },
 "nbformat": 4,
 "nbformat_minor": 5
}
