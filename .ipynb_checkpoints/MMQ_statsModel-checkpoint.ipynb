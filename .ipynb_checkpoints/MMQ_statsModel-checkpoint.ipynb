{
 "cells": [
  {
   "cell_type": "markdown",
   "id": "0ff15aa9-5475-4d96-8590-c8a86db9a82d",
   "metadata": {},
   "source": [
    "# MMQ para dados climáticos"
   ]
  },
  {
   "cell_type": "code",
   "execution_count": null,
   "id": "00cf8c79-547b-4826-9b55-408f3fdf1cb3",
   "metadata": {},
   "outputs": [],
   "source": [
    "#imports das bibliotecas necessaria\n",
    "import numpy as np\n",
    "import matplotlib.pyplot as plt\n",
    "import pandas as pd\n",
    "import statsmodels.api as sm\n",
    "import scipy.stats as sp"
   ]
  },
  {
   "cell_type": "markdown",
   "id": "cb1bf4b1-de48-4d60-b074-07b9b277f650",
   "metadata": {},
   "source": [
    "### Dados\n",
    "\n",
    "Os dados obtidos são de periodicidade mensal, começando a partir de janeiro 1980 e encerrando em dezembro de 2023."
   ]
  },
  {
   "cell_type": "code",
   "execution_count": null,
   "id": "2cfe3745-5e39-4ab2-befd-bdb577eb8add",
   "metadata": {},
   "outputs": [],
   "source": [
    "#importar dados para regressão\n",
    "df = pd.read_excel('Data/final_data.xlsx')\n",
    "df"
   ]
  },
  {
   "cell_type": "code",
   "execution_count": null,
   "id": "5e9a6cec-48ef-43d5-b5c2-14811a1c6fb0",
   "metadata": {},
   "outputs": [],
   "source": [
    "#Dados para previsão\n",
    "array_prev = [2034.0410, 2034.1257, 2034.2049, 2034.2896, 2034.3716, 2034.4563, 2034.5383, 2034.6230, 2034.7077, 2034.7896, 2034.8743, 2034.9563]"
   ]
  },
  {
   "cell_type": "markdown",
   "id": "5dd77e2c-d1ad-4e92-8619-aeba472adbb2",
   "metadata": {},
   "source": [
    "### Funções Auxiliares"
   ]
  },
  {
   "cell_type": "code",
   "execution_count": null,
   "id": "4d9182fb-c59a-49ed-a8d7-98bdf5ae4cba",
   "metadata": {},
   "outputs": [],
   "source": [
    "def treinar_modelo(x_, y_):\n",
    "    x_ = sm.add_constant(x_)\n",
    "    model = sm.OLS(y_,x_)\n",
    "    res = model.fit()\n",
    "    return res   "
   ]
  },
  {
   "cell_type": "code",
   "execution_count": null,
   "id": "d44f6302-5475-478f-802f-4b1bc2e8597f",
   "metadata": {},
   "outputs": [],
   "source": [
    "def plotgrafico(xlabel = \"\", ylabel=\"\", label=\"\", linha = 0, titulo = 'Gráfico', funcao = True, fileN = \"grafico\"):\n",
    "    graf, eix = plt.subplots(figsize = (15,6))\n",
    "    eix.scatter(x,y, color = 'black', s = 13)\n",
    "    eix.set_ylabel(ylabel)\n",
    "    eix.set_xlabel(xlabel)\n",
    "    eix.set_title(titulo)\n",
    "    eix.title.set_size(20)\n",
    "    eix.xaxis.label.set_size(16)\n",
    "    eix.yaxis.label.set_size(16)\n",
    "    if funcao == True:\n",
    "        eix.plot(x, linha , label = label, color = 'red')\n",
    "        eix.legend()\n",
    "    plt.savefig('graficos/' + fileN + '.png')\n",
    "    plt.show()"
   ]
  },
  {
   "cell_type": "markdown",
   "id": "280c636e-9073-46fb-97f1-b0a0788f0f91",
   "metadata": {},
   "source": [
    "## CO2xTempo\n",
    "\n",
    "Aqui, serão realizados estudos relacionados a regressão linear simples e ajustes não lineares de dados mensais de concentração atmosférica do CO2 em partes por milhão ao longo do tempo."
   ]
  },
  {
   "cell_type": "code",
   "execution_count": null,
   "id": "3eaa9676-6d29-4412-9898-ecb06af01a93",
   "metadata": {},
   "outputs": [],
   "source": [
    "#definir variáveis x e y\n",
    "y = np.array(df['Co2 ppm'])\n",
    "x = np.array(df['decimal date'])\n",
    "plotgrafico(funcao = False, titulo = \"Gráfico de dispersão: CO\\u2082 × Tempo\", xlabel = \"Anos\", ylabel = \"CO\\u2082 (ppm)\", fileN = \"DispersaoCO2\")"
   ]
  },
  {
   "cell_type": "code",
   "execution_count": null,
   "id": "5cd7e0a4",
   "metadata": {},
   "outputs": [],
   "source": [
    "#teste da distribuição normal\n",
    "sp.shapiro(y)"
   ]
  },
  {
   "cell_type": "markdown",
   "id": "481c3338-a0e3-4a24-b5e5-fde3d023bbe2",
   "metadata": {},
   "source": [
    "### Linear 1"
   ]
  },
  {
   "cell_type": "code",
   "execution_count": null,
   "id": "2b838c79-a90a-406c-b3db-6f54de13bbe2",
   "metadata": {},
   "outputs": [],
   "source": [
    "#Preparar model e treiná-lo, com teste t de student para significância\n",
    "x_ = x\n",
    "y_ = y \n",
    "res = treinar_modelo(x_,y_)\n",
    "print(res.summary())"
   ]
  },
  {
   "cell_type": "code",
   "execution_count": null,
   "id": "42d2a842-9bb1-43b6-93c6-dc3db93f3532",
   "metadata": {},
   "outputs": [],
   "source": [
    "#Equação e Gráfico\n",
    "equacaolabel = f'{round(res.params[1],4)}x {round(res.params[0],4)}\\nR² = {round(res.rsquared, 3)}'\n",
    "plotgrafico(titulo = \"CO\\u2082 × Tempo\", xlabel = \"Anos\", ylabel = \"CO\\u2082 (ppm)\", label = equacaolabel, linha = res.fittedvalues, fileN='P1-Linear1' )"
   ]
  },
  {
   "cell_type": "code",
   "execution_count": null,
   "id": "75a54002-3f94-459b-9d1b-5c9868f69d20",
   "metadata": {},
   "outputs": [],
   "source": [
    "res.pvalues"
   ]
  },
  {
   "cell_type": "code",
   "execution_count": null,
   "id": "a7cab4cc-6f35-4353-9ca1-a9ae41835479",
   "metadata": {},
   "outputs": [],
   "source": [
    "res.f_pvalue"
   ]
  },
  {
   "cell_type": "markdown",
   "id": "da210f60-f29f-4a12-9d5a-b1f90fd4c5de",
   "metadata": {
    "jp-MarkdownHeadingCollapsed": true
   },
   "source": [
    "#### Comentários"
   ]
  },
  {
   "cell_type": "markdown",
   "id": "492edefd-a826-40b2-882a-b95b5803e056",
   "metadata": {},
   "source": [
    "### Logarítmico 1"
   ]
  },
  {
   "cell_type": "code",
   "execution_count": null,
   "id": "37656e2a-74b8-4da1-941e-bf279f9f7e2a",
   "metadata": {},
   "outputs": [],
   "source": [
    "#Preparar model e treiná-lo, com teste t de student para significância\n",
    "x_ = np.log(x)\n",
    "y_ = y\n",
    "res = treinar_modelo(x_,y_)\n",
    "print(res.summary())\n"
   ]
  },
  {
   "cell_type": "code",
   "execution_count": null,
   "id": "c14b7cac-f417-4976-b6ba-391e295b0d92",
   "metadata": {},
   "outputs": [],
   "source": [
    "#Equação e Gráfico\n",
    "equacaolabel = f'{round(res.params[1],4)}ln(x) {round(res.params[0],4)}\\nR² = {round(res.rsquared, 3)}'\n",
    "plotgrafico(titulo = \"CO\\u2082 × Tempo\", xlabel = \"Anos\", ylabel = \"CO\\u2082 (ppm)\", label = equacaolabel, linha = res.fittedvalues, fileN='P1-Log1' )"
   ]
  },
  {
   "cell_type": "code",
   "execution_count": null,
   "id": "3deded86-e49e-4bab-8ae0-f6ebc44d489f",
   "metadata": {},
   "outputs": [],
   "source": [
    "res.pvalues"
   ]
  },
  {
   "cell_type": "code",
   "execution_count": null,
   "id": "e1e8fa97-1606-48a0-9d57-813f78195030",
   "metadata": {},
   "outputs": [],
   "source": [
    "res.f_pvalue"
   ]
  },
  {
   "cell_type": "markdown",
   "id": "586b4f65-c852-4090-9c4a-1f9d9262631a",
   "metadata": {
    "jp-MarkdownHeadingCollapsed": true
   },
   "source": [
    "#### Comentários"
   ]
  },
  {
   "cell_type": "markdown",
   "id": "f0c59ed2-14cf-449f-9ab1-5677002d538a",
   "metadata": {},
   "source": [
    "### Exponencial 1"
   ]
  },
  {
   "cell_type": "code",
   "execution_count": null,
   "id": "c7cfc823-d973-4e04-b372-918634817d74",
   "metadata": {},
   "outputs": [],
   "source": [
    "#Preparar model e treiná-lo, com teste t de student para significância\n",
    "x_ = x\n",
    "y_ = np.log(y)\n",
    "res = treinar_modelo(x_,y_)\n",
    "print(res.summary())"
   ]
  },
  {
   "cell_type": "code",
   "execution_count": null,
   "id": "749d277b-413d-405d-aa5c-4cbb012d3d13",
   "metadata": {},
   "outputs": [],
   "source": [
    "#Equação e Gráfico\n",
    "equacaolabel = f'{round(np.exp(res.params[0]),4)}e^({round( res.params[1] ,4)})\\nR² = {round(res.rsquared, 3)}'\n",
    "funApro = np.exp(res.params[0]) * np.exp(res.params[1] * x)\n",
    "plotgrafico(titulo = \"CO\\u2082 × Tempo\", xlabel = \"Anos\", ylabel = \"CO\\u2082 (ppm)\", label = equacaolabel,  linha = funApro, fileN='P1-Exponencial1' )"
   ]
  },
  {
   "cell_type": "code",
   "execution_count": null,
   "id": "e480ac4a-35fb-49f5-ab52-2cb9bb7e4f0f",
   "metadata": {},
   "outputs": [],
   "source": [
    "res.pvalues"
   ]
  },
  {
   "cell_type": "code",
   "execution_count": null,
   "id": "a302a384-7cce-4b57-b315-037a6b6ec2f5",
   "metadata": {},
   "outputs": [],
   "source": [
    "res.f_pvalue"
   ]
  },
  {
   "cell_type": "markdown",
   "id": "ab21870a-4434-4153-af88-934d52df353a",
   "metadata": {
    "jp-MarkdownHeadingCollapsed": true
   },
   "source": [
    "#### Comentários"
   ]
  },
  {
   "cell_type": "markdown",
   "id": "ede7d644-a569-489f-85dd-b791c4e1d174",
   "metadata": {},
   "source": [
    "### Potencial 1"
   ]
  },
  {
   "cell_type": "code",
   "execution_count": null,
   "id": "6fda9dc6-001d-4f38-9cf0-a33413fee5b7",
   "metadata": {},
   "outputs": [],
   "source": [
    "#Preparar model e treiná-lo, com teste t de student para significância\n",
    "x_ = np.log(x)\n",
    "y_ = np.log(y)\n",
    "res = treinar_modelo(x_,y_)\n",
    "print(res.summary())\n"
   ]
  },
  {
   "cell_type": "code",
   "execution_count": null,
   "id": "208cc6f9-14f3-4697-908d-20c2f2b7bb32",
   "metadata": {},
   "outputs": [],
   "source": [
    "#Equação e Gráfico\n",
    "equacaolabel = f'{np.exp(res.params[0]):.4g}x^({round(res.params[1],4):.4g})\\nR² = {round(res.rsquared, 3)}'\n",
    "funApro = np.exp(res.params[0]) * (x ** res.params[1])\n",
    "plotgrafico(titulo = \"CO\\u2082 × Tempo\", xlabel = \"Anos\", ylabel = \"CO\\u2082 (ppm)\", label = equacaolabel,  linha = funApro, fileN='P1-Potencial' )"
   ]
  },
  {
   "cell_type": "code",
   "execution_count": null,
   "id": "679616af-24a7-40bd-bd6f-3a9883893216",
   "metadata": {},
   "outputs": [],
   "source": [
    "np.exp(res.params[0])"
   ]
  },
  {
   "cell_type": "code",
   "execution_count": null,
   "id": "4096eaad-7cfa-475c-b508-f2af452ae40a",
   "metadata": {},
   "outputs": [],
   "source": [
    "res.pvalues"
   ]
  },
  {
   "cell_type": "code",
   "execution_count": null,
   "id": "afe64bfd-8f2e-403e-8cd6-ccecbdb2080f",
   "metadata": {},
   "outputs": [],
   "source": [
    "res.f_pvalue"
   ]
  },
  {
   "cell_type": "markdown",
   "id": "6f308a5a-c036-4060-9fad-3e7fb24232f4",
   "metadata": {},
   "source": [
    "### Polinomial 1"
   ]
  },
  {
   "cell_type": "markdown",
   "id": "5db8a250-2fdc-443d-9974-c74c84f34dae",
   "metadata": {},
   "source": [
    "#### Comentários"
   ]
  },
  {
   "cell_type": "code",
   "execution_count": null,
   "id": "ca306e61-c370-4a8b-a7cc-127dffbf9782",
   "metadata": {},
   "outputs": [],
   "source": [
    "#Preparar model e treiná-lo, com teste t de student para significância\n",
    "y_ = y\n",
    "x_ = np.column_stack((x, x**2))\n",
    "res = treinar_modelo(x_,y_)\n",
    "print(res.summary())\n"
   ]
  },
  {
   "cell_type": "code",
   "execution_count": null,
   "id": "2c1d0510-bc48-4729-9752-03bd13bf1348",
   "metadata": {},
   "outputs": [],
   "source": [
    "#Equação e Gráfico\n",
    "equacaolabel = f'{round(res.params[2],4)}x² {round(res.params[1],4)}x + {round(res.params[0],4)}\\nR² = {round(res.rsquared, 3)}'\n",
    "plotgrafico(titulo = \"CO\\u2082 × Tempo\", xlabel = \"Anos\", ylabel = \"CO\\u2082 (ppm)\", label = equacaolabel, linha = res.fittedvalues, fileN='P1-Polinomial' )"
   ]
  },
  {
   "cell_type": "code",
   "execution_count": null,
   "id": "ee8f212e-e8bd-4cc6-bbef-1a194c5ff5df",
   "metadata": {},
   "outputs": [],
   "source": [
    "res.pvalues"
   ]
  },
  {
   "cell_type": "code",
   "execution_count": null,
   "id": "05541ee1-3c2a-4a49-85dd-982adbaa3030",
   "metadata": {},
   "outputs": [],
   "source": [
    "res.f_pvalue"
   ]
  },
  {
   "cell_type": "markdown",
   "id": "9b0fb582-0bc3-4726-a199-04c787e83aeb",
   "metadata": {
    "jp-MarkdownHeadingCollapsed": true
   },
   "source": [
    "#### Comentários"
   ]
  },
  {
   "attachments": {},
   "cell_type": "markdown",
   "id": "d5bcaa0e-1117-485c-a9e5-07da412df5c4",
   "metadata": {},
   "source": [
    "## Anomalias de Temperatura x Tempo\n",
    "\n",
    "Aqui serão realizados estudos de regressão linear simples e ajustes não lineares a partir de dados de uma série temporal de anomalias de temperatura em terra e oceanos, que calcula as anomalias com base nos anos anteriores."
   ]
  },
  {
   "cell_type": "code",
   "execution_count": null,
   "id": "fc9e886e-3edc-473c-abd4-2b29b330c4a6",
   "metadata": {},
   "outputs": [],
   "source": [
    "\n",
    "2#definir variáveis x e y\n",
    "y = np.array(df['temperature anomalies'])\n",
    "x = np.array(df['decimal date'])\n",
    "plotgrafico(funcao = False, titulo = \"Gráfico de dispersão: Anomalias de temperatura × Tempo\", xlabel = \"Anos\", ylabel = \"Anomalias de temperatura (°C)\", fileN = \"DispersaoTemp\")"
   ]
  },
  {
   "cell_type": "code",
   "execution_count": null,
   "id": "48adcb94-9ece-4617-a70e-2745edd0c8aa",
   "metadata": {},
   "outputs": [],
   "source": [
    "#teste da distribuição normal\n",
    "sp.shapiro(y)"
   ]
  },
  {
   "cell_type": "code",
   "execution_count": null,
   "id": "c2b436f1-2407-4fcc-9c40-6af0378cd117",
   "metadata": {},
   "outputs": [],
   "source": [
    "res.pvalues"
   ]
  },
  {
   "cell_type": "markdown",
   "id": "658e6ef1-4141-428c-9763-f7eaa49b82e1",
   "metadata": {},
   "source": [
    "### Linear 2"
   ]
  },
  {
   "cell_type": "code",
   "execution_count": null,
   "id": "b78b4f0e-c718-4d6d-975c-5c4063148507",
   "metadata": {},
   "outputs": [],
   "source": [
    "x_ = x\n",
    "y_ = y\n",
    "res = treinar_modelo(x_, y_)\n",
    "print(res.summary())"
   ]
  },
  {
   "cell_type": "code",
   "execution_count": null,
   "id": "945f3e10-8ea5-48f9-b627-487c7a8dc055",
   "metadata": {},
   "outputs": [],
   "source": [
    "#Equação e Gráfico\n",
    "equacaolabel = f'{round(res.params[1],4)}x {round(res.params[0],4)}\\nR² = {round(res.rsquared, 3)}'\n",
    "plotgrafico(titulo = \"Anomalias de Temperatura × Tempo\", xlabel = \"Anos\", ylabel = \"Anomalias de Temperatura (°C)\", label = equacaolabel, linha = res.fittedvalues, fileN='P2-Linear')"
   ]
  },
  {
   "cell_type": "code",
   "execution_count": null,
   "id": "107bebde-206e-4677-a327-3411c3920be3",
   "metadata": {},
   "outputs": [],
   "source": [
    "res.pvalues"
   ]
  },
  {
   "cell_type": "markdown",
   "id": "f49d1b3d-db05-4e18-8c08-5d98d373f4d2",
   "metadata": {
    "jp-MarkdownHeadingCollapsed": true
   },
   "source": [
    "#### Comentários"
   ]
  },
  {
   "cell_type": "markdown",
   "id": "708fccb1-961c-4d64-868f-527726714921",
   "metadata": {},
   "source": [
    "### Logarítmico 2"
   ]
  },
  {
   "cell_type": "code",
   "execution_count": null,
   "id": "1b16d97a-622f-42e8-ac61-ca6f00a3a54f",
   "metadata": {},
   "outputs": [],
   "source": [
    "x_ = np.log(x)\n",
    "y_ = y\n",
    "res = treinar_modelo(x_, y_)\n",
    "print(res.summary())"
   ]
  },
  {
   "cell_type": "code",
   "execution_count": null,
   "id": "4a55f37e-26c1-4886-a267-3da2e7a1e0a2",
   "metadata": {},
   "outputs": [],
   "source": [
    "#Equação e Gráfico\n",
    "equacaolabel = f'{round(res.params[1],4)}ln(x) {round(res.params[0],4)}\\nR² = {round(res.rsquared, 3)}'\n",
    "plotgrafico(titulo = \"Anomalias de Temperatura × Tempo\", xlabel = \"Anos\", ylabel = \"Anomalias de Temperatura (°C)\", label = equacaolabel, linha = res.fittedvalues, fileN='P2-Log') "
   ]
  },
  {
   "cell_type": "code",
   "execution_count": null,
   "id": "cdfceaeb-6e4d-491b-ac37-b2cfa95790a9",
   "metadata": {},
   "outputs": [],
   "source": [
    "res.pvalues"
   ]
  },
  {
   "cell_type": "markdown",
   "id": "3622b6bb-4bb2-4e89-b279-63aa2c3bf3ae",
   "metadata": {
    "jp-MarkdownHeadingCollapsed": true
   },
   "source": [
    "#### Comentários"
   ]
  },
  {
   "cell_type": "markdown",
   "id": "ff791881-4d63-4ff3-af97-d7db41b760d7",
   "metadata": {},
   "source": [
    "### Exponencial 2"
   ]
  },
  {
   "cell_type": "code",
   "execution_count": null,
   "id": "c980805d-45eb-47c7-9d6f-2edbd516c5dd",
   "metadata": {},
   "outputs": [],
   "source": [
    "#Preparar model e treiná-lo, com teste t de student para significância\n",
    "x_ = x\n",
    "y_ = np.log(y)\n",
    "res = treinar_modelo(x_,y_)\n",
    "print(res.summary())"
   ]
  },
  {
   "cell_type": "code",
   "execution_count": null,
   "id": "dee142a5-1957-4374-8027-597acca27902",
   "metadata": {},
   "outputs": [],
   "source": [
    "np.exp(res.params[0])"
   ]
  },
  {
   "cell_type": "code",
   "execution_count": null,
   "id": "f162e8f4-833c-493a-a16f-fcfe268c748d",
   "metadata": {},
   "outputs": [],
   "source": [
    "#Equação e Gráfico\n",
    "equacaolabel = f'{round(np.exp(res.params[0]),4)}e^({round( res.params[1] ,4)})\\nR² = {round(res.rsquared, 3)}'\n",
    "funApro = np.exp(res.params[0]) * np.exp(res.params[1] * x)\n",
    "plotgrafico(titulo = \"Anomalias de Temperatura × Tempo\", xlabel = \"Anos\", ylabel = \"Anomalias de Temperatura (°C)\", label = equacaolabel,  linha = funApro, fileN='P2-Exponencial')"
   ]
  },
  {
   "cell_type": "code",
   "execution_count": null,
   "id": "b43ed94b-2dd1-465c-9eb5-4a6e72e6677d",
   "metadata": {},
   "outputs": [],
   "source": [
    "res.pvalues"
   ]
  },
  {
   "cell_type": "markdown",
   "id": "bfea97a2-609f-4825-a105-68bdbf65c2d5",
   "metadata": {
    "jp-MarkdownHeadingCollapsed": true
   },
   "source": [
    "#### Comentários"
   ]
  },
  {
   "cell_type": "markdown",
   "id": "4e10937e-4eeb-4b2c-a4f2-b738ead54e6e",
   "metadata": {},
   "source": [
    "### Potencial 2"
   ]
  },
  {
   "cell_type": "code",
   "execution_count": null,
   "id": "78b0b7f7-301f-4750-8664-6e4ecd364ebf",
   "metadata": {},
   "outputs": [],
   "source": [
    "#Preparar model e treiná-lo, com teste t de student para significância\n",
    "x_ = np.log(x)\n",
    "y_ = np.log(y)\n",
    "res = treinar_modelo(x_,y_)\n",
    "print(res.summary())\n"
   ]
  },
  {
   "cell_type": "code",
   "execution_count": null,
   "id": "df3b6e5b-8168-4e7c-8496-b08a80f2531e",
   "metadata": {},
   "outputs": [],
   "source": [
    "np.exp(res.params[0])"
   ]
  },
  {
   "cell_type": "code",
   "execution_count": null,
   "id": "12041667-f1f5-4cc6-90e2-0ef157710dac",
   "metadata": {},
   "outputs": [],
   "source": [
    "#Equação e Gráfico\n",
    "equacaolabel = f'{np.exp(res.params[0]):.4g}x^({round(res.params[1],4):.4g})\\nR² = {round(res.rsquared, 3)}'\n",
    "funApro = np.exp(res.params[0]) * (x ** res.params[1])\n",
    "plotgrafico(titulo = \"Anomalias de Temperatura × Tempo\", xlabel = \"Anos\", ylabel = \"Anomalias de Temperatura (°C)\", label = equacaolabel,  linha = funApro, fileN='P2-Potencial')"
   ]
  },
  {
   "cell_type": "code",
   "execution_count": null,
   "id": "a332d981-5170-46ad-8ee5-722ddf1e1eff",
   "metadata": {},
   "outputs": [],
   "source": [
    "res.pvalues"
   ]
  },
  {
   "cell_type": "markdown",
   "id": "c6de501a-e794-422b-86d9-eba9a6f74cb5",
   "metadata": {
    "jp-MarkdownHeadingCollapsed": true
   },
   "source": [
    "#### Comentários"
   ]
  },
  {
   "cell_type": "markdown",
   "id": "8ed73df3-f7a3-42c2-8a10-33900d6ccef2",
   "metadata": {},
   "source": [
    "### Polinomial 2"
   ]
  },
  {
   "cell_type": "code",
   "execution_count": null,
   "id": "ec0d7dd6-8aa6-4218-bb15-1b6c8b8161d0",
   "metadata": {},
   "outputs": [],
   "source": [
    "x_ = x\n",
    "y_ = y\n",
    "\n",
    "x_p = np.column_stack((x_, x_**2))\n",
    "\n",
    "\n",
    "x_p = sm.add_constant(x_p)\n",
    "model = sm.OLS(y_,x_p)\n",
    "res = model.fit()\n",
    "print(res.summary())"
   ]
  },
  {
   "cell_type": "code",
   "execution_count": null,
   "id": "a47f374e-1a05-4844-b44b-82d821ea39a6",
   "metadata": {},
   "outputs": [],
   "source": [
    "#Equação e Gráfico\n",
    "equacaolabel = f'{res.params[2]:.4g}x² {round(res.params[1],4)}x + {round(res.params[0],4)}\\nR² = {round(res.rsquared, 3)}'\n",
    "plotgrafico(titulo = \"Anomalias de Temperatura × Tempo\", xlabel = \"Anos\", ylabel = \"Anomalias de Temperatura (°C)\", label = equacaolabel, linha = res.fittedvalues, fileN='P2-Polinomial' )"
   ]
  },
  {
   "cell_type": "code",
   "execution_count": null,
   "id": "08503cbf-8137-4111-85d4-a71e9cdcc9e3",
   "metadata": {},
   "outputs": [],
   "source": [
    "res.params[2]"
   ]
  },
  {
   "cell_type": "code",
   "execution_count": null,
   "id": "b8faf136-1f49-4c2f-8965-9e0d1c737a61",
   "metadata": {},
   "outputs": [],
   "source": [
    "res.pvalues"
   ]
  },
  {
   "cell_type": "markdown",
   "id": "2788efe4-cac0-43a0-bebb-116882699cbd",
   "metadata": {
    "jp-MarkdownHeadingCollapsed": true
   },
   "source": [
    "#### Comentários\n"
   ]
  },
  {
   "cell_type": "markdown",
   "id": "06207bc2-30ab-48ce-8ad0-e70348c56b91",
   "metadata": {},
   "source": [
    "## Anomalias de Temperatura x Co2\n",
    "\n",
    "Aqui serão realizados estudos de regressão linear simples e ajustes não lineares a partir dos dados das anomalias de temperatura em terra e oceanos ao longo do tempo, mas em função das mudanças de concentração atmosférica do CO2 em partes por milhão ao longo do tempo"
   ]
  },
  {
   "cell_type": "code",
   "execution_count": null,
   "id": "f55957b0-c821-4c34-bbbf-69102c385b04",
   "metadata": {},
   "outputs": [],
   "source": [
    "y = np.array(df['temperature anomalies'])\n",
    "x = np.array(df['Co2 ppm'])\n",
    "plotgrafico(funcao = False, titulo = \"Gráfico de dispersão: Anomalias de Temperatura × CO\\u2082\", xlabel = \"CO\\u2082 (ppm)\", ylabel = \"Anomalias de temperatura (°C)\", fileN = \"DispersaoAmbos\")"
   ]
  },
  {
   "cell_type": "markdown",
   "id": "df204c6b-d4d6-4f14-ae95-4a0304268d07",
   "metadata": {},
   "source": [
    "### Linear 3"
   ]
  },
  {
   "cell_type": "code",
   "execution_count": null,
   "id": "3268b578-3398-44cb-8e6d-632d59e2c1d9",
   "metadata": {},
   "outputs": [],
   "source": [
    "x_ = x\n",
    "y_ = y\n",
    "res = treinar_modelo(x_, y_)\n",
    "print(res.summary())"
   ]
  },
  {
   "cell_type": "code",
   "execution_count": null,
   "id": "07754de7-f1f3-4e0b-bb85-78f3c6aa47d4",
   "metadata": {},
   "outputs": [],
   "source": [
    "#Equação e Gráfico\n",
    "equacaolabel = f'{round(res.params[1],4)}x + ({round(res.params[0],4)})\\nR² = {round(res.rsquared, 3)}'\n",
    "plotgrafico(titulo = \"Anomalias de Temperaturas × CO\\u2082\", xlabel = \"CO\\u2082 (ppm)\", ylabel = \"Anomalias de Temperatura (°C)\", label = equacaolabel, linha = res.fittedvalues, fileN='P3-Linear')"
   ]
  },
  {
   "cell_type": "code",
   "execution_count": null,
   "id": "ebe56fd9-3d0e-4bc5-ba52-c79cae8538f7",
   "metadata": {},
   "outputs": [],
   "source": [
    "res.pvalues"
   ]
  },
  {
   "cell_type": "markdown",
   "id": "990b1173-7e0a-415e-8f5f-e06514448fc6",
   "metadata": {
    "jp-MarkdownHeadingCollapsed": true
   },
   "source": [
    "#### Comentários"
   ]
  },
  {
   "cell_type": "markdown",
   "id": "4aef1682-6043-4e4c-85e9-2add9acabe28",
   "metadata": {},
   "source": [
    "### Logarítmico 3"
   ]
  },
  {
   "cell_type": "code",
   "execution_count": null,
   "id": "341f9628-549e-42a2-adad-96934107e8ea",
   "metadata": {},
   "outputs": [],
   "source": [
    "x_ = np.log(x)\n",
    "y_ = y\n",
    "res = treinar_modelo(x_, y_)\n",
    "print(res.summary())"
   ]
  },
  {
   "cell_type": "code",
   "execution_count": null,
   "id": "06c7b6d5-49eb-4a9b-8cc4-f5c063795e84",
   "metadata": {},
   "outputs": [],
   "source": [
    "#Equação e Gráfico\n",
    "equacaolabel = f'{round(res.params[1],4)}ln(x) + ({round(res.params[0],4)})\\nR² = {round(res.rsquared, 3)}'\n",
    "plotgrafico(titulo = \"Anomalias de Temperaturas × CO\\u2082\", xlabel = \"CO\\u2082 (ppm)\", ylabel = \"Anomalias de Temperatura (°C)\", label = equacaolabel, linha = res.fittedvalues, fileN='P3-Log')"
   ]
  },
  {
   "cell_type": "code",
   "execution_count": null,
   "id": "0ff411df-b750-4039-a814-5ececa06c9ba",
   "metadata": {},
   "outputs": [],
   "source": [
    "res.pvalues"
   ]
  },
  {
   "cell_type": "markdown",
   "id": "0b22fa41-fd63-42ba-b05d-296532adfdf7",
   "metadata": {
    "jp-MarkdownHeadingCollapsed": true
   },
   "source": [
    "#### Comentários"
   ]
  },
  {
   "cell_type": "markdown",
   "id": "e559f575-d209-4ce7-8819-668f570cb193",
   "metadata": {},
   "source": [
    "### Exponencial 3"
   ]
  },
  {
   "cell_type": "code",
   "execution_count": null,
   "id": "61216f44-6cea-4d5a-b454-63fc81b53cf5",
   "metadata": {},
   "outputs": [],
   "source": [
    "#Preparar model e treiná-lo, com teste t de student para significância\n",
    "x_ = x\n",
    "y_ = np.log(y)\n",
    "res = treinar_modelo(x_,y_)\n",
    "print(res.summary())"
   ]
  },
  {
   "cell_type": "code",
   "execution_count": null,
   "id": "82dd31aa-8dfa-4f82-b21c-f4273f5230f6",
   "metadata": {},
   "outputs": [],
   "source": [
    "#Equação e Gráfico\n",
    "equacaolabel = f'{round(np.exp(res.params[0]),4)}e^({round( res.params[1] ,4)})\\nR² = {round(res.rsquared, 3)}'\n",
    "funApro = np.exp(res.params[0]) * np.exp(res.params[1] * x)\n",
    "plotgrafico(titulo = \"Anomalias de Temperaturas × CO\\u2082\", xlabel = \"CO\\u2082 (ppm)\", ylabel = \"Anomalias de Temperatura (°C)\", label = equacaolabel, linha = funApro, fileN='P3-Exponencial')"
   ]
  },
  {
   "cell_type": "code",
   "execution_count": null,
   "id": "36ff5632-a3ec-42b4-bb22-7cdf7e008bf3",
   "metadata": {},
   "outputs": [],
   "source": [
    "res.pvalues"
   ]
  },
  {
   "cell_type": "markdown",
   "id": "c41c6466-4909-4481-b96e-bb48485c9c90",
   "metadata": {
    "jp-MarkdownHeadingCollapsed": true
   },
   "source": [
    "#### Comentários"
   ]
  },
  {
   "cell_type": "markdown",
   "id": "47ff131f-4f65-4948-bb55-d311d94e74a0",
   "metadata": {},
   "source": [
    "### Potencial 3"
   ]
  },
  {
   "cell_type": "code",
   "execution_count": null,
   "id": "18e98c3d-a16b-49e9-bba5-0823d579610f",
   "metadata": {},
   "outputs": [],
   "source": [
    "#Preparar model e treiná-lo, com teste t de student para significância\n",
    "x_ = np.log(x)\n",
    "y_ = np.log(y)\n",
    "res = treinar_modelo(x_,y_)\n",
    "print(res.summary())\n"
   ]
  },
  {
   "cell_type": "code",
   "execution_count": null,
   "id": "3040d699-28f5-4ed5-be13-f1728c080617",
   "metadata": {},
   "outputs": [],
   "source": [
    "#Equação e Gráfico\n",
    "equacaolabel = f'{np.exp(res.params[0]):.4g}x^({round(res.params[1],4):.4g})\\nR² = {round(res.rsquared, 3)}'\n",
    "funApro = np.exp(res.params[0]) * (x ** res.params[1])\n",
    "plotgrafico(titulo = \"Anomalias de Temperaturas × CO\\u2082\", xlabel = \"CO\\u2082 (ppm)\", ylabel = \"Anomalias de Temperatura (°C)\", label = equacaolabel, linha = funApro, fileN='P3-Potencial')"
   ]
  },
  {
   "cell_type": "code",
   "execution_count": null,
   "id": "9dc7d2b5-ca99-4dcc-9612-6a0901953032",
   "metadata": {},
   "outputs": [],
   "source": [
    "np.exp(res.params[0])"
   ]
  },
  {
   "cell_type": "code",
   "execution_count": null,
   "id": "a9a042eb-8ce6-4521-b365-74738e19f35e",
   "metadata": {},
   "outputs": [],
   "source": [
    "res.pvalues"
   ]
  },
  {
   "cell_type": "markdown",
   "id": "ff6c28e9-d151-4f7e-8186-85e81cf06726",
   "metadata": {
    "jp-MarkdownHeadingCollapsed": true
   },
   "source": [
    "#### Comentários"
   ]
  },
  {
   "cell_type": "markdown",
   "id": "727a6034-c319-4308-b870-a7aaf6c6b2be",
   "metadata": {},
   "source": [
    "### Polinomial 3"
   ]
  },
  {
   "cell_type": "code",
   "execution_count": null,
   "id": "60f5060e-dc81-49f6-83b5-e9c6664df949",
   "metadata": {},
   "outputs": [],
   "source": [
    "y_ = y\n",
    "x_ = np.column_stack((x, x**2))\n",
    "res = treinar_modelo(x_,y_)\n",
    "print(res.summary())"
   ]
  },
  {
   "cell_type": "code",
   "execution_count": null,
   "id": "1e68f2db-b74d-475c-9d9c-8ece2f29d4ba",
   "metadata": {},
   "outputs": [],
   "source": [
    "#Equação e Gráfico\n",
    "equacaolabel = f'{res.params[2]:.4g}x² + {round(res.params[1],4)}x {round(res.params[0],4)}\\nR² = {round(res.rsquared, 3)}'\n",
    "plotgrafico(titulo = \"Anomalias de Temperaturas × CO\\u2082\", xlabel = \"CO\\u2082 (ppm)\", ylabel = \"Anomalias de Temperatura (°C)\", label = equacaolabel, linha = res.fittedvalues, fileN='P3-Polinomial')"
   ]
  },
  {
   "cell_type": "code",
   "execution_count": null,
   "id": "12848f4f-eaf1-4499-97fa-2d1f8b735b64",
   "metadata": {},
   "outputs": [],
   "source": [
    "res.pvalues"
   ]
  },
  {
   "cell_type": "markdown",
   "id": "7285a9c8-aab9-4a84-bf0a-0fe3391acbc4",
   "metadata": {
    "jp-MarkdownHeadingCollapsed": true
   },
   "source": [
    "#### Comentários"
   ]
  }
 ],
 "metadata": {
  "kernelspec": {
   "display_name": "Python 3 (ipykernel)",
   "language": "python",
   "name": "python3"
  },
  "language_info": {
   "codemirror_mode": {
    "name": "ipython",
    "version": 3
   },
   "file_extension": ".py",
   "mimetype": "text/x-python",
   "name": "python",
   "nbconvert_exporter": "python",
   "pygments_lexer": "ipython3",
   "version": "3.11.7"
  }
 },
 "nbformat": 4,
 "nbformat_minor": 5
}
